{
 "cells": [
  {
   "cell_type": "markdown",
   "id": "83b329d4-9459-460a-9d2a-4bdc9100b478",
   "metadata": {},
   "source": [
    "# Liskov Substitution Principle - example derived from:\n",
    "```https://web.archive.org/web/20151128004108/http://www.objectmentor.com/resources/articles/lsp.pdf```"
   ]
  },
  {
   "cell_type": "code",
   "execution_count": 1,
   "id": "87f802f2-39cd-474f-9078-77589850fe3d",
   "metadata": {},
   "outputs": [],
   "source": [
    "import inspect"
   ]
  },
  {
   "cell_type": "markdown",
   "id": "a9339c07-df6f-4a0e-af1e-aca76cd4081f",
   "metadata": {},
   "source": [
    "### Code which violates Liskov Substitution Principle\n",
    "```BadSquare``` class descends from ```BadRectangle```, and uses the inherited ```multiply``` method."
   ]
  },
  {
   "cell_type": "code",
   "execution_count": 2,
   "id": "439cf029-2842-4dd9-bed3-7f07e361d05f",
   "metadata": {},
   "outputs": [],
   "source": [
    "# Import bad classes\n",
    "from liskov_badness.rectangle import Rectangle as BadRectangle\n",
    "from liskov_badness.square import Square as BadSquare\n",
    "\n",
    "bad_rectangle = BadRectangle()\n",
    "bad_square = BadSquare()"
   ]
  },
  {
   "cell_type": "code",
   "execution_count": 3,
   "id": "bf953cee-66cc-41da-85e5-a2ec1037c38c",
   "metadata": {},
   "outputs": [
    {
     "name": "stdout",
     "output_type": "stream",
     "text": [
      "Code for class <class 'liskov_badness.rectangle.Rectangle'>:\n",
      "class Rectangle(object):\n",
      "\n",
      "    def __init__(self):\n",
      "        self._width = None\n",
      "        self._height = None\n",
      "\n",
      "    @property\n",
      "    def height(self) -> float:\n",
      "        return self._height\n",
      "\n",
      "    @height.setter\n",
      "    def height(self, h: float):\n",
      "        self._height = h\n",
      "\n",
      "    @property\n",
      "    def width(self) -> float:\n",
      "        return self._width\n",
      "\n",
      "    @width.setter\n",
      "    def width(self, w: float):\n",
      "        self._width = w\n",
      "\n",
      "    def multiply(self, multiplier: float) -> None:\n",
      "        \"\"\"\n",
      "        Function to demonstrate Liskov Substitution violation\n",
      "        \"\"\"\n",
      "        self.height *= multiplier\n",
      "        self.width *= multiplier\n",
      "\n",
      "    def area(self) -> float:\n",
      "        return self.height * self.width\n",
      "\n",
      "\n",
      "Code for class <class 'liskov_badness.square.Square'>:\n",
      "class Square(Rectangle):\n",
      "\n",
      "    @property\n",
      "    def height(self):\n",
      "        return self._height\n",
      "\n",
      "    @height.setter\n",
      "    def height(self, h: float):\n",
      "        self._height = h\n",
      "        self._width = h  # Side effect to try to avoid breaking model\n",
      "\n",
      "    @property\n",
      "    def width(self):\n",
      "        return self._width\n",
      "\n",
      "    @width.setter\n",
      "    def width(self, w: float):\n",
      "        self._width = w\n",
      "        self._height = w  # Side effect to try to avoid breaking model\n",
      "\n",
      "\n"
     ]
    }
   ],
   "source": [
    "for liskov_class in [BadRectangle, BadSquare]:\n",
    "    print(f'Code for class {liskov_class}:')\n",
    "    print(''.join(inspect.getsourcelines(liskov_class)[0]))\n",
    "    print()"
   ]
  },
  {
   "cell_type": "code",
   "execution_count": 4,
   "id": "9a90eb78-df25-414e-9a4e-7059a9193db5",
   "metadata": {},
   "outputs": [
    {
     "name": "stdout",
     "output_type": "stream",
     "text": [
      "Setting rectangle width to 5.0 and height to 4.0\n",
      "All good: bad_rectangle.width = 5.0, bad_rectangle.height = 4.0\n",
      "Calling bad_rectangle.multiply(2.0)\n",
      "All good: bad_rectangle.width = 10.0, bad_rectangle.height = 8.0\n"
     ]
    }
   ],
   "source": [
    "# Test base class\n",
    "print('Setting rectangle width to 5.0 and height to 4.0')\n",
    "bad_rectangle.width = 5.0\n",
    "bad_rectangle.height = 4.0\n",
    "print(f\"All good: bad_rectangle.width = {bad_rectangle.width}, bad_rectangle.height = {bad_rectangle.height}\")\n",
    "\n",
    "multiplier=2.0\n",
    "original_width = bad_rectangle.width\n",
    "original_height = bad_rectangle.height\n",
    "print(f'Calling bad_rectangle.multiply({multiplier})')\n",
    "bad_rectangle.multiply(multiplier)\n",
    "try:\n",
    "    assert bad_rectangle.width == original_width * multiplier and  bad_rectangle.height == original_height * multiplier, f'Rectangle is not {multiplier} x original size'\n",
    "    print(f\"All good: bad_rectangle.width = {bad_rectangle.width}, bad_rectangle.height = {bad_rectangle.height}\")\n",
    "except Exception as e:\n",
    "    print(f'ERROR: {e}')"
   ]
  },
  {
   "cell_type": "code",
   "execution_count": 5,
   "id": "dd3432ae-af4b-40dc-af9b-848a4e257429",
   "metadata": {},
   "outputs": [
    {
     "name": "stdout",
     "output_type": "stream",
     "text": [
      "Setting square width to 5.0\n",
      "All good: bad_square.width = 5.0, bad_square.height = 5.0\n",
      "Setting square height to 4.0\n",
      "All good: square.width = 4.0, square.height = 4.0\n",
      "Calling bad_rectangle.multiply(2.0)\n",
      "ERROR: Square is not 2.0 x original size\n"
     ]
    }
   ],
   "source": [
    "# This demonstrates the problem with the descendant class - it will fail the assertion.\n",
    "print('Setting square width to 5.0')\n",
    "bad_square.width = 5.0\n",
    "assert bad_square.width == bad_square.height, 'Square has been mangled'\n",
    "print(f\"All good: bad_square.width = {bad_square.width}, bad_square.height = {bad_square.height}\")\n",
    "\n",
    "print('Setting square height to 4.0')\n",
    "bad_square.height = 4.0\n",
    "assert bad_square.width == bad_square.height, 'Square has been mangled'\n",
    "print(f\"All good: square.width = {bad_square.width}, square.height = {bad_square.height}\")\n",
    "\n",
    "multiplier=2.0\n",
    "original_width = bad_square.width\n",
    "original_height = bad_square.height\n",
    "print(f'Calling bad_rectangle.multiply({multiplier})')\n",
    "bad_square.multiply(multiplier)\n",
    "try:\n",
    "    assert bad_square.width == bad_square.height, 'Square has been mangled'\n",
    "    assert bad_square.width == original_width * multiplier and  bad_square.height == original_height * multiplier, f'Square is not {multiplier} x original size'\n",
    "    print(f\"All good: bad_square.width = {bad_square.width}, bad_square.height = {bad_square.height}\")\n",
    "except Exception as e:\n",
    "    print(f'ERROR: {e}')"
   ]
  },
  {
   "cell_type": "markdown",
   "id": "3cf58ec6-8b35-41fd-a92d-808bafa14b1c",
   "metadata": {},
   "source": [
    "### Code which does NOT violate Liskov Substitution Principle\n",
    "Both ```GoodRectangle``` and ```GoodSquare``` class descend from the ```Polygon``` virtual base class, and each subclass implements its own independent ```multiply``` method."
   ]
  },
  {
   "cell_type": "code",
   "execution_count": 6,
   "id": "136c43a7-03d9-4497-8916-a6a9e7aa63be",
   "metadata": {},
   "outputs": [],
   "source": [
    "# Import good classes\n",
    "from liskov_conformance.rectangle import Rectangle as GoodRectangle\n",
    "from liskov_conformance.square import Square as GoodSquare\n",
    "from liskov_conformance.polygon import Polygon\n",
    "\n",
    "good_rectangle = GoodRectangle()\n",
    "good_square = GoodSquare()"
   ]
  },
  {
   "cell_type": "code",
   "execution_count": 7,
   "id": "00d826db-32c9-4178-b8f2-2fa732a266b0",
   "metadata": {},
   "outputs": [
    {
     "name": "stdout",
     "output_type": "stream",
     "text": [
      "Code for class <class 'liskov_conformance.polygon.Polygon'>:\n",
      "class Polygon(metaclass=abc.ABCMeta):\n",
      "    @abc.abstractmethod\n",
      "    def height(self):\n",
      "        raise NotImplementedError\n",
      "\n",
      "    @abc.abstractmethod\n",
      "    def height(self, height: float):\n",
      "        raise NotImplementedError\n",
      "\n",
      "    @abc.abstractmethod\n",
      "    def width(self):\n",
      "        raise NotImplementedError\n",
      "\n",
      "    @abc.abstractmethod\n",
      "    def width(self, width: float):\n",
      "        raise NotImplementedError\n",
      "\n",
      "    @abc.abstractmethod\n",
      "    def multiply(self, multiplier: float) -> None:\n",
      "        raise NotImplementedError\n",
      "\n",
      "    @abc.abstractmethod\n",
      "    def area(self) -> float:\n",
      "        raise NotImplementedError\n",
      "\n",
      "\n",
      "Code for class <class 'liskov_conformance.rectangle.Rectangle'>:\n",
      "class Rectangle(Polygon):\n",
      "\n",
      "    def __init__(self):\n",
      "        self._width = None\n",
      "        self._height = None\n",
      "\n",
      "    @property\n",
      "    def height(self) -> float:\n",
      "        return self._height\n",
      "\n",
      "    @height.setter\n",
      "    def height(self, h: float):\n",
      "        self._height = h\n",
      "\n",
      "    @property\n",
      "    def width(self) -> float:\n",
      "        return self._width\n",
      "\n",
      "    @width.setter\n",
      "    def width(self, w: float):\n",
      "        self._width = w\n",
      "\n",
      "    def multiply(self, multiplier: float) -> None:\n",
      "        self.height *= multiplier\n",
      "        self.width *= multiplier\n",
      "\n",
      "    def area(self) -> float:\n",
      "        return self.height * self.width\n",
      "\n",
      "\n",
      "Code for class <class 'liskov_conformance.square.Square'>:\n",
      "class Square(Polygon):\n",
      "\n",
      "    def __init__(self):\n",
      "        self._side_length = None\n",
      "\n",
      "    @property\n",
      "    def height(self):\n",
      "        return self._side_length\n",
      "\n",
      "    @height.setter\n",
      "    def height(self, height: float):\n",
      "        self._side_length = height\n",
      "\n",
      "    @property\n",
      "    def width(self):\n",
      "        return self._side_length\n",
      "\n",
      "    @width.setter\n",
      "    def width(self, width: float):\n",
      "        self._side_length = width\n",
      "\n",
      "    def multiply(self, multiplier: float) -> None:\n",
      "        \"\"\"\n",
      "        Function to demonstrate Liskov Substitution violation\n",
      "        \"\"\"\n",
      "        self._side_length *= multiplier\n",
      "\n",
      "    def area(self):\n",
      "        return self._side_length * self._side_length\n",
      "\n",
      "\n"
     ]
    }
   ],
   "source": [
    "for liskov_class in [Polygon, GoodRectangle, GoodSquare]:\n",
    "    print(f'Code for class {liskov_class}:')\n",
    "    print(''.join(inspect.getsourcelines(liskov_class)[0]))\n",
    "    print()"
   ]
  },
  {
   "cell_type": "code",
   "execution_count": 8,
   "id": "052fd702-0d2e-4fa6-9485-0f99cdfa1756",
   "metadata": {},
   "outputs": [
    {
     "name": "stdout",
     "output_type": "stream",
     "text": [
      "Setting rectangle width to 5.0 and height to 4.0\n",
      "All good: good_rectangle.width = 5.0, good_rectangle.height = 4.0\n",
      "Calling good_rectangle.multiply(2.0)\n",
      "All good: good_rectangle.width = 10.0, good_rectangle.height = 8.0\n"
     ]
    }
   ],
   "source": [
    "# Test base class\n",
    "print('Setting rectangle width to 5.0 and height to 4.0')\n",
    "good_rectangle.width = 5.0\n",
    "good_rectangle.height = 4.0\n",
    "print(f\"All good: good_rectangle.width = {good_rectangle.width}, good_rectangle.height = {good_rectangle.height}\")\n",
    "\n",
    "multiplier=2.0\n",
    "original_width = good_rectangle.width\n",
    "original_height = good_rectangle.height\n",
    "print(f'Calling good_rectangle.multiply({multiplier})')\n",
    "good_rectangle.multiply(multiplier)\n",
    "try:\n",
    "    assert good_rectangle.width == original_width * multiplier and  good_rectangle.height == original_height * multiplier, f'Rectangle is not {multiplier} x original size'\n",
    "    print(f\"All good: good_rectangle.width = {good_rectangle.width}, good_rectangle.height = {good_rectangle.height}\")\n",
    "except Exception as e:\n",
    "    print(f'ERROR: {e}')"
   ]
  },
  {
   "cell_type": "code",
   "execution_count": 9,
   "id": "78d9f143-df65-411f-b907-3d93557c341e",
   "metadata": {},
   "outputs": [
    {
     "name": "stdout",
     "output_type": "stream",
     "text": [
      "Setting square width to 5.0\n",
      "All good: good_square.width = 5.0, good_square.height = 5.0\n",
      "Setting square height to 4.0\n",
      "All good: square.width = 4.0, square.height = 4.0\n",
      "Calling good_rectangle.multiply(2.0)\n",
      "All good: good_square.width = 8.0, good_square.height = 8.0\n"
     ]
    }
   ],
   "source": [
    "# This demonstrates the corrected descendant class - it will pass the assertion.\n",
    "print('Setting square width to 5.0')\n",
    "good_square.width = 5.0\n",
    "assert good_square.width == good_square.height, 'Square has been mangled'\n",
    "print(f\"All good: good_square.width = {good_square.width}, good_square.height = {good_square.height}\")\n",
    "\n",
    "print('Setting square height to 4.0')\n",
    "good_square.height = 4.0\n",
    "assert good_square.width == good_square.height, 'Square has been mangled'\n",
    "print(f\"All good: square.width = {good_square.width}, square.height = {good_square.height}\")\n",
    "\n",
    "multiplier=2.0\n",
    "original_width = good_square.width\n",
    "original_height = good_square.height\n",
    "print(f'Calling good_square.multiply({multiplier})')\n",
    "good_square.multiply(multiplier)\n",
    "try:\n",
    "    assert good_square.width == good_square.height, 'Square has been mangled'\n",
    "    assert good_square.width == original_width * multiplier and  good_square.height == original_height * multiplier, f'Square is not {multiplier} x original size'\n",
    "    print(f\"All good: good_square.width = {good_square.width}, good_square.height = {good_square.height}\")\n",
    "except Exception as e:\n",
    "    print(f'ERROR: {e}')"
   ]
  }
 ],
 "metadata": {
  "kernelspec": {
   "display_name": "Python 3 (ipykernel)",
   "language": "python",
   "name": "python3"
  },
  "language_info": {
   "codemirror_mode": {
    "name": "ipython",
    "version": 3
   },
   "file_extension": ".py",
   "mimetype": "text/x-python",
   "name": "python",
   "nbconvert_exporter": "python",
   "pygments_lexer": "ipython3",
   "version": "3.7.12"
  }
 },
 "nbformat": 4,
 "nbformat_minor": 5
}
