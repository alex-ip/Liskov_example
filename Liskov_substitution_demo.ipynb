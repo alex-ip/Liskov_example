{
 "cells": [
  {
   "cell_type": "markdown",
   "id": "83b329d4-9459-460a-9d2a-4bdc9100b478",
   "metadata": {},
   "source": [
    "# Liskov Substitution Principle - example derived from:\n",
    "```https://web.archive.org/web/20151128004108/http://www.objectmentor.com/resources/articles/lsp.pdf```"
   ]
  },
  {
   "cell_type": "code",
   "execution_count": 1,
   "id": "87f802f2-39cd-474f-9078-77589850fe3d",
   "metadata": {},
   "outputs": [],
   "source": [
    "# Import bad classes\n",
    "from liskov_badness.rectangle import Rectangle as BadRectangle\n",
    "from liskov_badness.square import Square as BadSquare\n",
    "\n",
    "# Import good classes\n",
    "from liskov_conformance.rectangle import Rectangle as GoodRectangle\n",
    "from liskov_conformance.square import Square as GoodSquare"
   ]
  },
  {
   "cell_type": "code",
   "execution_count": 2,
   "id": "439cf029-2842-4dd9-bed3-7f07e361d05f",
   "metadata": {},
   "outputs": [],
   "source": [
    "bad_rectangle = BadRectangle()\n",
    "bad_square = BadSquare()"
   ]
  },
  {
   "cell_type": "code",
   "execution_count": 3,
   "id": "9a90eb78-df25-414e-9a4e-7059a9193db5",
   "metadata": {},
   "outputs": [
    {
     "name": "stdout",
     "output_type": "stream",
     "text": [
      "Setting rectangle width to 5.0 and height to 4.0\n",
      "All good: bad_rectangle.width = 5.0, bad_rectangle.height = 4.0\n",
      "Calling bad_rectangle.multiply(2.0)\n",
      "All good: bad_rectangle.width = 10.0, bad_rectangle.height = 8.0\n"
     ]
    }
   ],
   "source": [
    "# Test base class\n",
    "print('Setting rectangle width to 5.0 and height to 4.0')\n",
    "bad_rectangle.width = 5.0\n",
    "bad_rectangle.height = 4.0\n",
    "print(f\"All good: bad_rectangle.width = {bad_rectangle.width}, bad_rectangle.height = {bad_rectangle.height}\")\n",
    "\n",
    "multiplier=2.0\n",
    "original_width = bad_rectangle.width\n",
    "original_height = bad_rectangle.height\n",
    "print(f'Calling bad_rectangle.multiply({multiplier})')\n",
    "bad_rectangle.multiply(multiplier)\n",
    "try:\n",
    "    assert bad_rectangle.width == original_width * multiplier and  bad_rectangle.height == original_height * multiplier, f'Rectangle is not {multiplier} x original size'\n",
    "    print(f\"All good: bad_rectangle.width = {bad_rectangle.width}, bad_rectangle.height = {bad_rectangle.height}\")\n",
    "except Exception as e:\n",
    "    print(f'ERROR: {e}')"
   ]
  },
  {
   "cell_type": "code",
   "execution_count": 4,
   "id": "dd3432ae-af4b-40dc-af9b-848a4e257429",
   "metadata": {},
   "outputs": [
    {
     "name": "stdout",
     "output_type": "stream",
     "text": [
      "Setting square width to 5.0\n",
      "All good: bad_square.width = 5.0, bad_square.height = 5.0\n",
      "Setting square height to 4.0\n",
      "All good: square.width = 4.0, square.height = 4.0\n",
      "Calling bad_rectangle.multiply(2.0)\n",
      "ERROR: Square is not 2.0 x original size\n"
     ]
    }
   ],
   "source": [
    "# This demonstrates the problem with the descendant class - it will fail the assertion.\n",
    "print('Setting square width to 5.0')\n",
    "bad_square.width = 5.0\n",
    "assert bad_square.width == bad_square.height, 'Square has been mangled'\n",
    "print(f\"All good: bad_square.width = {bad_square.width}, bad_square.height = {bad_square.height}\")\n",
    "\n",
    "print('Setting square height to 4.0')\n",
    "bad_square.height = 4.0\n",
    "assert bad_square.width == bad_square.height, 'Square has been mangled'\n",
    "print(f\"All good: square.width = {bad_square.width}, square.height = {bad_square.height}\")\n",
    "\n",
    "multiplier=2.0\n",
    "original_width = bad_square.width\n",
    "original_height = bad_square.height\n",
    "print(f'Calling bad_rectangle.multiply({multiplier})')\n",
    "bad_square.multiply(multiplier)\n",
    "try:\n",
    "    assert bad_square.width == bad_square.height, 'Square has been mangled'\n",
    "    assert bad_square.width == original_width * multiplier and  bad_square.height == original_height * multiplier, f'Square is not {multiplier} x original size'\n",
    "    print(f\"All good: bad_square.width = {bad_square.width}, bad_square.height = {bad_square.height}\")\n",
    "except Exception as e:\n",
    "    print(f'ERROR: {e}')"
   ]
  },
  {
   "cell_type": "code",
   "execution_count": 5,
   "id": "136c43a7-03d9-4497-8916-a6a9e7aa63be",
   "metadata": {},
   "outputs": [],
   "source": [
    "good_rectangle = GoodRectangle()\n",
    "good_square = GoodSquare()"
   ]
  },
  {
   "cell_type": "code",
   "execution_count": 6,
   "id": "052fd702-0d2e-4fa6-9485-0f99cdfa1756",
   "metadata": {},
   "outputs": [
    {
     "name": "stdout",
     "output_type": "stream",
     "text": [
      "Setting rectangle width to 5.0 and height to 4.0\n",
      "All good: good_rectangle.width = 5.0, good_rectangle.height = 4.0\n",
      "Calling good_rectangle.multiply(2.0)\n",
      "All good: good_rectangle.width = 10.0, good_rectangle.height = 8.0\n"
     ]
    }
   ],
   "source": [
    "# Test base class\n",
    "print('Setting rectangle width to 5.0 and height to 4.0')\n",
    "good_rectangle.width = 5.0\n",
    "good_rectangle.height = 4.0\n",
    "print(f\"All good: good_rectangle.width = {good_rectangle.width}, good_rectangle.height = {good_rectangle.height}\")\n",
    "\n",
    "multiplier=2.0\n",
    "original_width = good_rectangle.width\n",
    "original_height = good_rectangle.height\n",
    "print(f'Calling good_rectangle.multiply({multiplier})')\n",
    "good_rectangle.multiply(multiplier)\n",
    "try:\n",
    "    assert good_rectangle.width == original_width * multiplier and  good_rectangle.height == original_height * multiplier, f'Rectangle is not {multiplier} x original size'\n",
    "    print(f\"All good: good_rectangle.width = {good_rectangle.width}, good_rectangle.height = {good_rectangle.height}\")\n",
    "except Exception as e:\n",
    "    print(f'ERROR: {e}')"
   ]
  },
  {
   "cell_type": "code",
   "execution_count": 7,
   "id": "78d9f143-df65-411f-b907-3d93557c341e",
   "metadata": {},
   "outputs": [
    {
     "name": "stdout",
     "output_type": "stream",
     "text": [
      "Setting square width to 5.0\n",
      "All good: good_square.width = 5.0, good_square.height = 5.0\n",
      "Setting square height to 4.0\n",
      "All good: square.width = 4.0, square.height = 4.0\n",
      "Calling good_rectangle.multiply(2.0)\n",
      "All good: good_square.width = 8.0, good_square.height = 8.0\n"
     ]
    }
   ],
   "source": [
    "# This demonstrates the corrected descendant class - it will pass the assertion.\n",
    "print('Setting square width to 5.0')\n",
    "good_square.width = 5.0\n",
    "assert good_square.width == good_square.height, 'Square has been mangled'\n",
    "print(f\"All good: good_square.width = {good_square.width}, good_square.height = {good_square.height}\")\n",
    "\n",
    "print('Setting square height to 4.0')\n",
    "good_square.height = 4.0\n",
    "assert good_square.width == good_square.height, 'Square has been mangled'\n",
    "print(f\"All good: square.width = {good_square.width}, square.height = {good_square.height}\")\n",
    "\n",
    "multiplier=2.0\n",
    "original_width = good_square.width\n",
    "original_height = good_square.height\n",
    "print(f'Calling good_rectangle.multiply({multiplier})')\n",
    "good_square.multiply(multiplier)\n",
    "try:\n",
    "    assert good_square.width == good_square.height, 'Square has been mangled'\n",
    "    assert good_square.width == original_width * multiplier and  good_square.height == original_height * multiplier, f'Square is not {multiplier} x original size'\n",
    "    print(f\"All good: good_square.width = {good_square.width}, good_square.height = {good_square.height}\")\n",
    "except Exception as e:\n",
    "    print(f'ERROR: {e}')"
   ]
  }
 ],
 "metadata": {
  "kernelspec": {
   "display_name": "Python 3 (ipykernel)",
   "language": "python",
   "name": "python3"
  },
  "language_info": {
   "codemirror_mode": {
    "name": "ipython",
    "version": 3
   },
   "file_extension": ".py",
   "mimetype": "text/x-python",
   "name": "python",
   "nbconvert_exporter": "python",
   "pygments_lexer": "ipython3",
   "version": "3.10.10"
  }
 },
 "nbformat": 4,
 "nbformat_minor": 5
}
